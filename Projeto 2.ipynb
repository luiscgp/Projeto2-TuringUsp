{
 "cells": [
  {
   "cell_type": "markdown",
   "id": "ee3a474c",
   "metadata": {},
   "source": [
    "# Projeto 2 - Turing Usp"
   ]
  },
  {
   "cell_type": "markdown",
   "id": "7a3e69ae",
   "metadata": {},
   "source": [
    "O objetivo principal é fazer uma predição de uma base de dados para determinar se um cientista de dados gostaria ou não de mudar de emprego. Para isto, farei uma descrição do dataset, e logo após começarei a limpar a base, para, então, começar a predição."
   ]
  },
  {
   "cell_type": "markdown",
   "id": "561e376e",
   "metadata": {},
   "source": [
    "Esses datasets possuem informações a respeito de candidatos para um determinado processo seletivo. As colunas presentes são: \n",
    "-\tenrollee_id: ID exclusivo para o candidato\n",
    "-\tcity: Código da cidade\n",
    "-\tcity_ development _index: Índice de desenvolvimento da cidade (em escala)\n",
    "-\tgender: Gênero do candidato\n",
    "-\trelevent_experience: Experiência relevante do candidato\n",
    "-\tenrolled_university: Tipo de curso universitário matriculado, se houver\n",
    "-\teducation_level: Nível de educação do candidato\n",
    "-\tmajor_discipline: Major principal de educação do candidato\n",
    "    -\tSTEM: Science, Technology, Engineering, and Math Degree\n",
    "    -\tBusiness Major: Administração de negócios\n",
    "    -\tHumanities: Humanidades\n",
    "    -\tArts: Artes\n",
    "    -\tNo major: Não faz/possui um major\n",
    "    -\tOther: Outro\n",
    "-\texperience: Experiência total do candidato em anos\n",
    "-\tcompany_size: Nº de funcionários na empresa do empregador atual\n",
    "-\tcompany_type: Tipo de empregador atual\n",
    "-\tlastnewjob: Diferença em anos entre o emprego anterior e o emprego atual\n",
    "-\ttraining_hours: Horas de treinamento concluidas\n",
    "-\ttarget: 0 - Não está procurando uma mudança de emprego ou 1 - Procurando uma mudança de emprego (essa coluna está presente apenas no dataset de treino) \n"
   ]
  },
  {
   "cell_type": "markdown",
   "id": "0eb2b32d",
   "metadata": {},
   "source": [
    "## Importação dos dados e de bibliotecas"
   ]
  },
  {
   "cell_type": "code",
   "execution_count": 1,
   "id": "9a04ab5b",
   "metadata": {},
   "outputs": [],
   "source": [
    "import pandas as pd\n",
    "import numpy as np\n",
    "import matplotlib.pyplot as plt\n",
    "import seaborn as sns\n",
    "\n",
    "from sklearn import preprocessing\n",
    "from sklearn.metrics import confusion_matrix, plot_confusion_matrix, classification_report\n",
    "\n",
    "from sklearn.model_selection import train_test_split \n",
    "from sklearn.ensemble import RandomForestClassifier\n",
    "from sklearn import svm"
   ]
  },
  {
   "cell_type": "code",
   "execution_count": 2,
   "id": "960307a3",
   "metadata": {},
   "outputs": [
    {
     "data": {
      "text/html": [
       "<div>\n",
       "<style scoped>\n",
       "    .dataframe tbody tr th:only-of-type {\n",
       "        vertical-align: middle;\n",
       "    }\n",
       "\n",
       "    .dataframe tbody tr th {\n",
       "        vertical-align: top;\n",
       "    }\n",
       "\n",
       "    .dataframe thead th {\n",
       "        text-align: right;\n",
       "    }\n",
       "</style>\n",
       "<table border=\"1\" class=\"dataframe\">\n",
       "  <thead>\n",
       "    <tr style=\"text-align: right;\">\n",
       "      <th></th>\n",
       "      <th>enrollee_id</th>\n",
       "      <th>city</th>\n",
       "      <th>city_development_index</th>\n",
       "      <th>gender</th>\n",
       "      <th>relevent_experience</th>\n",
       "      <th>enrolled_university</th>\n",
       "      <th>education_level</th>\n",
       "      <th>major_discipline</th>\n",
       "      <th>experience</th>\n",
       "      <th>company_size</th>\n",
       "      <th>company_type</th>\n",
       "      <th>last_new_job</th>\n",
       "      <th>training_hours</th>\n",
       "      <th>target</th>\n",
       "    </tr>\n",
       "  </thead>\n",
       "  <tbody>\n",
       "    <tr>\n",
       "      <th>0</th>\n",
       "      <td>8949</td>\n",
       "      <td>city_103</td>\n",
       "      <td>0.920</td>\n",
       "      <td>Male</td>\n",
       "      <td>Has relevent experience</td>\n",
       "      <td>no_enrollment</td>\n",
       "      <td>Graduate</td>\n",
       "      <td>STEM</td>\n",
       "      <td>&gt;20</td>\n",
       "      <td>NaN</td>\n",
       "      <td>NaN</td>\n",
       "      <td>1</td>\n",
       "      <td>36</td>\n",
       "      <td>1.0</td>\n",
       "    </tr>\n",
       "    <tr>\n",
       "      <th>1</th>\n",
       "      <td>29725</td>\n",
       "      <td>city_40</td>\n",
       "      <td>0.776</td>\n",
       "      <td>Male</td>\n",
       "      <td>No relevent experience</td>\n",
       "      <td>no_enrollment</td>\n",
       "      <td>Graduate</td>\n",
       "      <td>STEM</td>\n",
       "      <td>15</td>\n",
       "      <td>50-99</td>\n",
       "      <td>Pvt Ltd</td>\n",
       "      <td>&gt;4</td>\n",
       "      <td>47</td>\n",
       "      <td>0.0</td>\n",
       "    </tr>\n",
       "    <tr>\n",
       "      <th>2</th>\n",
       "      <td>11561</td>\n",
       "      <td>city_21</td>\n",
       "      <td>0.624</td>\n",
       "      <td>NaN</td>\n",
       "      <td>No relevent experience</td>\n",
       "      <td>Full time course</td>\n",
       "      <td>Graduate</td>\n",
       "      <td>STEM</td>\n",
       "      <td>5</td>\n",
       "      <td>NaN</td>\n",
       "      <td>NaN</td>\n",
       "      <td>never</td>\n",
       "      <td>83</td>\n",
       "      <td>0.0</td>\n",
       "    </tr>\n",
       "    <tr>\n",
       "      <th>3</th>\n",
       "      <td>33241</td>\n",
       "      <td>city_115</td>\n",
       "      <td>0.789</td>\n",
       "      <td>NaN</td>\n",
       "      <td>No relevent experience</td>\n",
       "      <td>NaN</td>\n",
       "      <td>Graduate</td>\n",
       "      <td>Business Degree</td>\n",
       "      <td>&lt;1</td>\n",
       "      <td>NaN</td>\n",
       "      <td>Pvt Ltd</td>\n",
       "      <td>never</td>\n",
       "      <td>52</td>\n",
       "      <td>1.0</td>\n",
       "    </tr>\n",
       "    <tr>\n",
       "      <th>4</th>\n",
       "      <td>666</td>\n",
       "      <td>city_162</td>\n",
       "      <td>0.767</td>\n",
       "      <td>Male</td>\n",
       "      <td>Has relevent experience</td>\n",
       "      <td>no_enrollment</td>\n",
       "      <td>Masters</td>\n",
       "      <td>STEM</td>\n",
       "      <td>&gt;20</td>\n",
       "      <td>50-99</td>\n",
       "      <td>Funded Startup</td>\n",
       "      <td>4</td>\n",
       "      <td>8</td>\n",
       "      <td>0.0</td>\n",
       "    </tr>\n",
       "  </tbody>\n",
       "</table>\n",
       "</div>"
      ],
      "text/plain": [
       "   enrollee_id      city  city_development_index gender  \\\n",
       "0         8949  city_103                   0.920   Male   \n",
       "1        29725   city_40                   0.776   Male   \n",
       "2        11561   city_21                   0.624    NaN   \n",
       "3        33241  city_115                   0.789    NaN   \n",
       "4          666  city_162                   0.767   Male   \n",
       "\n",
       "       relevent_experience enrolled_university education_level  \\\n",
       "0  Has relevent experience       no_enrollment        Graduate   \n",
       "1   No relevent experience       no_enrollment        Graduate   \n",
       "2   No relevent experience    Full time course        Graduate   \n",
       "3   No relevent experience                 NaN        Graduate   \n",
       "4  Has relevent experience       no_enrollment         Masters   \n",
       "\n",
       "  major_discipline experience company_size    company_type last_new_job  \\\n",
       "0             STEM        >20          NaN             NaN            1   \n",
       "1             STEM         15        50-99         Pvt Ltd           >4   \n",
       "2             STEM          5          NaN             NaN        never   \n",
       "3  Business Degree         <1          NaN         Pvt Ltd        never   \n",
       "4             STEM        >20        50-99  Funded Startup            4   \n",
       "\n",
       "   training_hours  target  \n",
       "0              36     1.0  \n",
       "1              47     0.0  \n",
       "2              83     0.0  \n",
       "3              52     1.0  \n",
       "4               8     0.0  "
      ]
     },
     "execution_count": 2,
     "metadata": {},
     "output_type": "execute_result"
    }
   ],
   "source": [
    "df = pd.read_csv('train.csv')\n",
    "df.head()"
   ]
  },
  {
   "cell_type": "markdown",
   "id": "97e068b4",
   "metadata": {},
   "source": [
    "## Limpeza"
   ]
  },
  {
   "cell_type": "code",
   "execution_count": 3,
   "id": "b6e4fa39",
   "metadata": {},
   "outputs": [
    {
     "name": "stdout",
     "output_type": "stream",
     "text": [
      "<class 'pandas.core.frame.DataFrame'>\n",
      "RangeIndex: 19158 entries, 0 to 19157\n",
      "Data columns (total 14 columns):\n",
      " #   Column                  Non-Null Count  Dtype  \n",
      "---  ------                  --------------  -----  \n",
      " 0   enrollee_id             19158 non-null  int64  \n",
      " 1   city                    19158 non-null  object \n",
      " 2   city_development_index  19158 non-null  float64\n",
      " 3   gender                  14650 non-null  object \n",
      " 4   relevent_experience     19158 non-null  object \n",
      " 5   enrolled_university     18772 non-null  object \n",
      " 6   education_level         18698 non-null  object \n",
      " 7   major_discipline        16345 non-null  object \n",
      " 8   experience              19093 non-null  object \n",
      " 9   company_size            13220 non-null  object \n",
      " 10  company_type            13018 non-null  object \n",
      " 11  last_new_job            18735 non-null  object \n",
      " 12  training_hours          19158 non-null  int64  \n",
      " 13  target                  19158 non-null  float64\n",
      "dtypes: float64(2), int64(2), object(10)\n",
      "memory usage: 2.0+ MB\n"
     ]
    }
   ],
   "source": [
    "df.info()"
   ]
  },
  {
   "cell_type": "code",
   "execution_count": 4,
   "id": "c06de309",
   "metadata": {},
   "outputs": [
    {
     "data": {
      "text/plain": [
       "gender                 4508.0\n",
       "enrolled_university     386.0\n",
       "education_level         460.0\n",
       "major_discipline       2813.0\n",
       "experience               65.0\n",
       "company_size           5938.0\n",
       "company_type           6140.0\n",
       "last_new_job            423.0\n",
       "dtype: float64"
      ]
     },
     "execution_count": 4,
     "metadata": {},
     "output_type": "execute_result"
    }
   ],
   "source": [
    "df.isnull().sum().where(df.isnull().sum() > 0).dropna()"
   ]
  },
  {
   "cell_type": "markdown",
   "id": "c2112eb4",
   "metadata": {},
   "source": [
    "Percebemos que as colunas gender,enrolled_university, education_level, major_discipline, experience, company_size, company_type e last_new_job tem dados nulos que precisamos preencher ou remover. No caso, para os valores com menos dados faltantes, apenas excluirei tais dados. Para os outros dados, incluirei um novo valor categorico."
   ]
  },
  {
   "cell_type": "code",
   "execution_count": 5,
   "id": "8cf1b6d5",
   "metadata": {},
   "outputs": [],
   "source": [
    "df.dropna(subset=['enrolled_university', 'education_level','experience', 'last_new_job'], inplace = True)"
   ]
  },
  {
   "cell_type": "code",
   "execution_count": 6,
   "id": "6b09ec4c",
   "metadata": {},
   "outputs": [
    {
     "data": {
      "text/html": [
       "<div>\n",
       "<style scoped>\n",
       "    .dataframe tbody tr th:only-of-type {\n",
       "        vertical-align: middle;\n",
       "    }\n",
       "\n",
       "    .dataframe tbody tr th {\n",
       "        vertical-align: top;\n",
       "    }\n",
       "\n",
       "    .dataframe thead th {\n",
       "        text-align: right;\n",
       "    }\n",
       "</style>\n",
       "<table border=\"1\" class=\"dataframe\">\n",
       "  <thead>\n",
       "    <tr style=\"text-align: right;\">\n",
       "      <th></th>\n",
       "      <th>enrollee_id</th>\n",
       "      <th>city</th>\n",
       "      <th>city_development_index</th>\n",
       "      <th>gender</th>\n",
       "      <th>relevent_experience</th>\n",
       "      <th>enrolled_university</th>\n",
       "      <th>education_level</th>\n",
       "      <th>major_discipline</th>\n",
       "      <th>experience</th>\n",
       "      <th>company_size</th>\n",
       "      <th>company_type</th>\n",
       "      <th>last_new_job</th>\n",
       "      <th>training_hours</th>\n",
       "      <th>target</th>\n",
       "    </tr>\n",
       "  </thead>\n",
       "  <tbody>\n",
       "    <tr>\n",
       "      <th>0</th>\n",
       "      <td>8949</td>\n",
       "      <td>city_103</td>\n",
       "      <td>0.920</td>\n",
       "      <td>Male</td>\n",
       "      <td>Has relevent experience</td>\n",
       "      <td>no_enrollment</td>\n",
       "      <td>Graduate</td>\n",
       "      <td>STEM</td>\n",
       "      <td>&gt;20</td>\n",
       "      <td>NaN</td>\n",
       "      <td>NaN</td>\n",
       "      <td>1</td>\n",
       "      <td>36</td>\n",
       "      <td>1.0</td>\n",
       "    </tr>\n",
       "    <tr>\n",
       "      <th>1</th>\n",
       "      <td>29725</td>\n",
       "      <td>city_40</td>\n",
       "      <td>0.776</td>\n",
       "      <td>Male</td>\n",
       "      <td>No relevent experience</td>\n",
       "      <td>no_enrollment</td>\n",
       "      <td>Graduate</td>\n",
       "      <td>STEM</td>\n",
       "      <td>15</td>\n",
       "      <td>50-99</td>\n",
       "      <td>Pvt Ltd</td>\n",
       "      <td>&gt;4</td>\n",
       "      <td>47</td>\n",
       "      <td>0.0</td>\n",
       "    </tr>\n",
       "    <tr>\n",
       "      <th>2</th>\n",
       "      <td>11561</td>\n",
       "      <td>city_21</td>\n",
       "      <td>0.624</td>\n",
       "      <td>NaN</td>\n",
       "      <td>No relevent experience</td>\n",
       "      <td>Full time course</td>\n",
       "      <td>Graduate</td>\n",
       "      <td>STEM</td>\n",
       "      <td>5</td>\n",
       "      <td>NaN</td>\n",
       "      <td>NaN</td>\n",
       "      <td>never</td>\n",
       "      <td>83</td>\n",
       "      <td>0.0</td>\n",
       "    </tr>\n",
       "    <tr>\n",
       "      <th>4</th>\n",
       "      <td>666</td>\n",
       "      <td>city_162</td>\n",
       "      <td>0.767</td>\n",
       "      <td>Male</td>\n",
       "      <td>Has relevent experience</td>\n",
       "      <td>no_enrollment</td>\n",
       "      <td>Masters</td>\n",
       "      <td>STEM</td>\n",
       "      <td>&gt;20</td>\n",
       "      <td>50-99</td>\n",
       "      <td>Funded Startup</td>\n",
       "      <td>4</td>\n",
       "      <td>8</td>\n",
       "      <td>0.0</td>\n",
       "    </tr>\n",
       "    <tr>\n",
       "      <th>5</th>\n",
       "      <td>21651</td>\n",
       "      <td>city_176</td>\n",
       "      <td>0.764</td>\n",
       "      <td>NaN</td>\n",
       "      <td>Has relevent experience</td>\n",
       "      <td>Part time course</td>\n",
       "      <td>Graduate</td>\n",
       "      <td>STEM</td>\n",
       "      <td>11</td>\n",
       "      <td>NaN</td>\n",
       "      <td>NaN</td>\n",
       "      <td>1</td>\n",
       "      <td>24</td>\n",
       "      <td>1.0</td>\n",
       "    </tr>\n",
       "  </tbody>\n",
       "</table>\n",
       "</div>"
      ],
      "text/plain": [
       "   enrollee_id      city  city_development_index gender  \\\n",
       "0         8949  city_103                   0.920   Male   \n",
       "1        29725   city_40                   0.776   Male   \n",
       "2        11561   city_21                   0.624    NaN   \n",
       "4          666  city_162                   0.767   Male   \n",
       "5        21651  city_176                   0.764    NaN   \n",
       "\n",
       "       relevent_experience enrolled_university education_level  \\\n",
       "0  Has relevent experience       no_enrollment        Graduate   \n",
       "1   No relevent experience       no_enrollment        Graduate   \n",
       "2   No relevent experience    Full time course        Graduate   \n",
       "4  Has relevent experience       no_enrollment         Masters   \n",
       "5  Has relevent experience    Part time course        Graduate   \n",
       "\n",
       "  major_discipline experience company_size    company_type last_new_job  \\\n",
       "0             STEM        >20          NaN             NaN            1   \n",
       "1             STEM         15        50-99         Pvt Ltd           >4   \n",
       "2             STEM          5          NaN             NaN        never   \n",
       "4             STEM        >20        50-99  Funded Startup            4   \n",
       "5             STEM         11          NaN             NaN            1   \n",
       "\n",
       "   training_hours  target  \n",
       "0              36     1.0  \n",
       "1              47     0.0  \n",
       "2              83     0.0  \n",
       "4               8     0.0  \n",
       "5              24     1.0  "
      ]
     },
     "execution_count": 6,
     "metadata": {},
     "output_type": "execute_result"
    }
   ],
   "source": [
    "df.head()"
   ]
  },
  {
   "cell_type": "code",
   "execution_count": 7,
   "id": "151269be",
   "metadata": {},
   "outputs": [
    {
     "data": {
      "text/plain": [
       "gender              3863.0\n",
       "major_discipline    2222.0\n",
       "company_size        5310.0\n",
       "company_type        5476.0\n",
       "dtype: float64"
      ]
     },
     "execution_count": 7,
     "metadata": {},
     "output_type": "execute_result"
    }
   ],
   "source": [
    "df.isnull().sum().where(df.isnull().sum() > 0).dropna()"
   ]
  },
  {
   "cell_type": "code",
   "execution_count": 8,
   "id": "870e807a",
   "metadata": {},
   "outputs": [],
   "source": [
    "df.fillna('Missing Value',inplace = True)"
   ]
  },
  {
   "cell_type": "code",
   "execution_count": 9,
   "id": "62c456f7",
   "metadata": {},
   "outputs": [
    {
     "name": "stdout",
     "output_type": "stream",
     "text": [
      "enrollee_id : [ 8949 29725 11561 ... 24576  5756 23834]\n",
      "city : ['city_103' 'city_40' 'city_21' 'city_162' 'city_176' 'city_160' 'city_46'\n",
      " 'city_61' 'city_114' 'city_13' 'city_159' 'city_102' 'city_67' 'city_100'\n",
      " 'city_16' 'city_104' 'city_64' 'city_101' 'city_83' 'city_105' 'city_73'\n",
      " 'city_75' 'city_93' 'city_11' 'city_36' 'city_20' 'city_71' 'city_57'\n",
      " 'city_152' 'city_19' 'city_65' 'city_74' 'city_173' 'city_136' 'city_98'\n",
      " 'city_97' 'city_90' 'city_50' 'city_138' 'city_82' 'city_157' 'city_89'\n",
      " 'city_150' 'city_175' 'city_28' 'city_115' 'city_94' 'city_59' 'city_165'\n",
      " 'city_145' 'city_142' 'city_26' 'city_12' 'city_37' 'city_43' 'city_116'\n",
      " 'city_23' 'city_99' 'city_149' 'city_10' 'city_45' 'city_41' 'city_128'\n",
      " 'city_70' 'city_158' 'city_123' 'city_7' 'city_72' 'city_106' 'city_143'\n",
      " 'city_78' 'city_109' 'city_24' 'city_48' 'city_144' 'city_91' 'city_146'\n",
      " 'city_133' 'city_126' 'city_118' 'city_134' 'city_9' 'city_167' 'city_27'\n",
      " 'city_84' 'city_54' 'city_39' 'city_79' 'city_76' 'city_77' 'city_81'\n",
      " 'city_131' 'city_44' 'city_33' 'city_141' 'city_117' 'city_127' 'city_62'\n",
      " 'city_53' 'city_25' 'city_2' 'city_69' 'city_120' 'city_111' 'city_30'\n",
      " 'city_1' 'city_140' 'city_80' 'city_155' 'city_179' 'city_14' 'city_55'\n",
      " 'city_42' 'city_107' 'city_18' 'city_139' 'city_180' 'city_166'\n",
      " 'city_121' 'city_129' 'city_31' 'city_8' 'city_171']\n",
      "city_development_index : [0.92  0.776 0.624 0.767 0.764 0.762 0.913 0.926 0.827 0.843 0.804 0.855\n",
      " 0.887 0.91  0.924 0.666 0.558 0.923 0.794 0.754 0.939 0.865 0.55  0.893\n",
      " 0.796 0.884 0.866 0.698 0.682 0.802 0.579 0.878 0.897 0.949 0.925 0.896\n",
      " 0.836 0.693 0.769 0.789 0.775 0.903 0.555 0.727 0.64  0.516 0.743 0.899\n",
      " 0.915 0.689 0.895 0.89  0.527 0.766 0.738 0.647 0.795 0.74  0.701 0.493\n",
      " 0.84  0.691 0.735 0.742 0.479 0.722 0.921 0.848 0.856 0.898 0.83  0.73\n",
      " 0.68  0.725 0.448 0.763 0.745 0.645 0.788 0.78  0.847 0.556 0.512 0.739\n",
      " 0.563 0.518 0.824 0.487 0.649 0.781 0.625 0.807 0.664]\n",
      "gender : ['Male' 'Missing Value' 'Female' 'Other']\n",
      "relevent_experience : ['Has relevent experience' 'No relevent experience']\n",
      "enrolled_university : ['no_enrollment' 'Full time course' 'Part time course']\n",
      "education_level : ['Graduate' 'Masters' 'High School' 'Phd' 'Primary School']\n",
      "major_discipline : ['STEM' 'Missing Value' 'Arts' 'Humanities' 'Business Degree' 'No Major'\n",
      " 'Other']\n",
      "experience : ['>20' '15' '5' '11' '13' '7' '17' '2' '16' '1' '4' '10' '<1' '14' '18'\n",
      " '19' '12' '6' '9' '3' '8' '20']\n",
      "company_size : ['Missing Value' '50-99' '<10' '10000+' '5000-9999' '1000-4999' '10/49'\n",
      " '100-500' '500-999']\n",
      "company_type : ['Missing Value' 'Pvt Ltd' 'Funded Startup' 'Early Stage Startup' 'Other'\n",
      " 'Public Sector' 'NGO']\n",
      "last_new_job : ['1' '>4' 'never' '4' '3' '2']\n",
      "training_hours : [ 36  47  83   8  24  18  46 123  32 108  23  26 106   7 132  68  50  48\n",
      "  65  13  22 148  72  40 141  82 145 206 152  42  14 112  87  52  20  21\n",
      "  92 102  43  45  19  90  25 142  28  29  12  17  35   4 136  27  74  86\n",
      "  75 332 182 172  33  34 150 140 160   3   2 210 101  59 260 131 109  70\n",
      "  51  60 164 290 133  76  15 156 120 100  39  55  49   6 125 326 198  11\n",
      "  41 114 246  81  31  84 105  38 178 104 202  88  62  10  80  77  37 162\n",
      " 190  30  16   5  54  44 110 262 134 103  96  57 240  94 113  56  64 320\n",
      " 129  58 126 166  95  97 204 116 161 107 146  53 143 124 214 288 306  98\n",
      " 322  67   9  61 130 220  78 314 226 280  91 234 163 151  85 256 168 218\n",
      " 144  66 128  73 122 154  63 292 188  71 135 138 184  89 157 118 111 192\n",
      " 127 216 139 196  99 167 276 121  69 155 316 242 304 284 278 310 222 212\n",
      " 250 180 258 330 158 149 165  79 194 176 312 174 328 153 232 336 308 228\n",
      " 147 298 224 254 248 236 170 119 117 302 334 324 264 300   1 238 266 282\n",
      " 268 244 200 294 272 270 286]\n",
      "target : [1. 0.]\n"
     ]
    }
   ],
   "source": [
    "for i in df.columns:\n",
    "    print(f'{i} : {df[i].unique()}')"
   ]
  },
  {
   "cell_type": "markdown",
   "id": "c06a1847",
   "metadata": {},
   "source": [
    "Para melhor tratamento de colunas categóricas ordinária, colocarei os missing values como o menor nivel, e criarei uma nova coluna para verificar se a ausencia dos dados interfere no target. Além disso, passarei os valores categóricos para valores numéricos para fazer as predições."
   ]
  },
  {
   "cell_type": "markdown",
   "id": "6518cded",
   "metadata": {},
   "source": [
    "## City"
   ]
  },
  {
   "cell_type": "code",
   "execution_count": 10,
   "id": "7155cd74",
   "metadata": {},
   "outputs": [
    {
     "data": {
      "text/plain": [
       "<AxesSubplot:xlabel='city', ylabel='count'>"
      ]
     },
     "execution_count": 10,
     "metadata": {},
     "output_type": "execute_result"
    },
    {
     "data": {
      "image/png": "[encoded data removed]",
      "text/plain": [
       "<Figure size 2160x720 with 1 Axes>"
      ]
     },
     "metadata": {
      "needs_background": "light"
     },
     "output_type": "display_data"
    }
   ],
   "source": [
    "plt.figure(figsize=(30, 10))\n",
    "sns.countplot(x = 'city', data = df, hue = 'target')"
   ]
  },
  {
   "cell_type": "markdown",
   "id": "f945fea0",
   "metadata": {},
   "source": [
    "Percebemos que a distribuição de target para cada cidade é diferente, levando-nos a concluir que tal variavel influencia no target."
   ]
  },
  {
   "cell_type": "markdown",
   "id": "e4f4de66",
   "metadata": {},
   "source": [
    "## Gender"
   ]
  },
  {
   "cell_type": "code",
   "execution_count": 11,
   "id": "5ecc8957",
   "metadata": {},
   "outputs": [
    {
     "data": {
      "text/plain": [
       "<AxesSubplot:xlabel='gender', ylabel='count'>"
      ]
     },
     "execution_count": 11,
     "metadata": {},
     "output_type": "execute_result"
    },
    {
     "data": {
      "image/png": "[encoded data removed]",
      "text/plain": [
       "<Figure size 432x288 with 1 Axes>"
      ]
     },
     "metadata": {
      "needs_background": "light"
     },
     "output_type": "display_data"
    }
   ],
   "source": [
    "sns.countplot(x = 'gender', data = df, hue = 'target')"
   ]
  },
  {
   "cell_type": "code",
   "execution_count": 12,
   "id": "aff1fd06",
   "metadata": {},
   "outputs": [
    {
     "name": "stdout",
     "output_type": "stream",
     "text": [
      "Male\n",
      "0.22721578452865643\n",
      "Missing Value\n",
      "0.3008024851151954\n",
      "Female\n",
      "0.2595356550580431\n",
      "Other\n",
      "0.2543352601156069\n"
     ]
    }
   ],
   "source": [
    "for i in df['gender'].unique():\n",
    "    print(i)\n",
    "    print(df[(df['gender'] == i) & (df['target'] == 1)].shape[0]/df[df['gender'] == i].shape[0])"
   ]
  },
  {
   "cell_type": "markdown",
   "id": "5e61e590",
   "metadata": {},
   "source": [
    "Apesar da variação da proporção não ser tão grande, as variaveis male e missing value possuem uma leve diferença. Portanto, tal variável também será utilizada na predição."
   ]
  },
  {
   "cell_type": "markdown",
   "id": "ccf90233",
   "metadata": {},
   "source": [
    "## relevent_experience"
   ]
  },
  {
   "cell_type": "code",
   "execution_count": 13,
   "id": "1b986ae6",
   "metadata": {},
   "outputs": [
    {
     "data": {
      "text/plain": [
       "<AxesSubplot:xlabel='relevent_experience', ylabel='count'>"
      ]
     },
     "execution_count": 13,
     "metadata": {},
     "output_type": "execute_result"
    },
    {
     "data": {
      "image/png": "[encoded data removed]",
      "text/plain": [
       "<Figure size 432x288 with 1 Axes>"
      ]
     },
     "metadata": {
      "needs_background": "light"
     },
     "output_type": "display_data"
    }
   ],
   "source": [
    "sns.countplot(x = 'relevent_experience', data = df, hue = 'target')"
   ]
  },
  {
   "cell_type": "markdown",
   "id": "a1878ee0",
   "metadata": {},
   "source": [
    "Aqui, é claro que a distribuição de target em cada valor de relevent_experience é diferente."
   ]
  },
  {
   "cell_type": "markdown",
   "id": "67dfa134",
   "metadata": {},
   "source": [
    "## enrolled_university"
   ]
  },
  {
   "cell_type": "code",
   "execution_count": 14,
   "id": "67a915a2",
   "metadata": {},
   "outputs": [
    {
     "data": {
      "text/plain": [
       "<AxesSubplot:xlabel='enrolled_university', ylabel='count'>"
      ]
     },
     "execution_count": 14,
     "metadata": {},
     "output_type": "execute_result"
    },
    {
     "data": {
      "image/png": "[encoded data removed]",
      "text/plain": [
       "<Figure size 432x288 with 1 Axes>"
      ]
     },
     "metadata": {
      "needs_background": "light"
     },
     "output_type": "display_data"
    }
   ],
   "source": [
    "sns.countplot(x = 'enrolled_university', data = df, hue = 'target')"
   ]
  },
  {
   "cell_type": "markdown",
   "id": "67d40f46",
   "metadata": {},
   "source": [
    "Aqui, a distribuição também parece influenciada"
   ]
  },
  {
   "cell_type": "markdown",
   "id": "2f0dd335",
   "metadata": {},
   "source": [
    "## education_level"
   ]
  },
  {
   "cell_type": "code",
   "execution_count": 15,
   "id": "aeddb6c3",
   "metadata": {},
   "outputs": [
    {
     "data": {
      "text/plain": [
       "<AxesSubplot:xlabel='education_level', ylabel='count'>"
      ]
     },
     "execution_count": 15,
     "metadata": {},
     "output_type": "execute_result"
    },
    {
     "data": {
      "image/png": "[encoded data removed]",
      "text/plain": [
       "<Figure size 432x288 with 1 Axes>"
      ]
     },
     "metadata": {
      "needs_background": "light"
     },
     "output_type": "display_data"
    }
   ],
   "source": [
    "sns.countplot(x = 'education_level', data = df, hue = 'target')"
   ]
  },
  {
   "cell_type": "code",
   "execution_count": 16,
   "id": "f54d9c67",
   "metadata": {},
   "outputs": [
    {
     "name": "stdout",
     "output_type": "stream",
     "text": [
      "Graduate\n",
      "0.27466928852341793\n",
      "Masters\n",
      "0.20908230842005676\n",
      "High School\n",
      "0.1949685534591195\n",
      "Phd\n",
      "0.13784461152882205\n",
      "Primary School\n",
      "0.12714776632302405\n"
     ]
    }
   ],
   "source": [
    "for i in df['education_level'].unique():\n",
    "    print(i)\n",
    "    print(df[(df['education_level'] == i) & (df['target'] == 1)].shape[0]/df[df['education_level'] == i].shape[0])"
   ]
  },
  {
   "cell_type": "markdown",
   "id": "b723363e",
   "metadata": {},
   "source": [
    "## major_discipline"
   ]
  },
  {
   "cell_type": "code",
   "execution_count": 17,
   "id": "9da37784",
   "metadata": {},
   "outputs": [
    {
     "data": {
      "text/plain": [
       "<AxesSubplot:xlabel='major_discipline', ylabel='count'>"
      ]
     },
     "execution_count": 17,
     "metadata": {},
     "output_type": "execute_result"
    },
    {
     "data": {
      "image/png": "[encoded data removed]",
      "text/plain": [
       "<Figure size 432x288 with 1 Axes>"
      ]
     },
     "metadata": {
      "needs_background": "light"
     },
     "output_type": "display_data"
    }
   ],
   "source": [
    "sns.countplot(x = 'major_discipline', data = df, hue = 'target')"
   ]
  },
  {
   "cell_type": "code",
   "execution_count": 18,
   "id": "5fd32e2f",
   "metadata": {},
   "outputs": [
    {
     "name": "stdout",
     "output_type": "stream",
     "text": [
      "STEM\n",
      "0.2565568498534982\n",
      "Missing Value\n",
      "0.18766876687668768\n",
      "Arts\n",
      "0.20967741935483872\n",
      "Humanities\n",
      "0.20520673813169985\n",
      "Business Degree\n",
      "0.2608695652173913\n",
      "No Major\n",
      "0.24528301886792453\n",
      "Other\n",
      "0.25274725274725274\n"
     ]
    }
   ],
   "source": [
    "for i in df['major_discipline'].unique():\n",
    "    print(i)\n",
    "    print(df[(df['major_discipline'] == i) & (df['target'] == 1)].shape[0]/df[df['major_discipline'] == i].shape[0])"
   ]
  },
  {
   "cell_type": "markdown",
   "id": "58208a05",
   "metadata": {},
   "source": [
    "## experience"
   ]
  },
  {
   "cell_type": "code",
   "execution_count": 19,
   "id": "eb5d5e0d",
   "metadata": {},
   "outputs": [
    {
     "name": "stdout",
     "output_type": "stream",
     "text": [
      ">20\n",
      "0.15273412947831552\n",
      "15\n",
      "0.1661676646706587\n",
      "5\n",
      "0.29094988780852654\n",
      "11\n",
      "0.2280431432973806\n",
      "13\n",
      "0.18863049095607234\n",
      "7\n",
      "0.2953156822810591\n",
      "17\n",
      "0.1691842900302115\n",
      "2\n",
      "0.3370110330992979\n",
      "16\n",
      "0.13319672131147542\n",
      "1\n",
      "0.42105263157894735\n",
      "4\n",
      "0.32126348228043144\n",
      "10\n",
      "0.2135306553911205\n",
      "<1\n",
      "0.4567627494456763\n",
      "14\n",
      "0.17750439367311072\n",
      "18\n",
      "0.14285714285714285\n",
      "19\n",
      "0.16326530612244897\n",
      "12\n",
      "0.17894736842105263\n",
      "6\n",
      "0.28608923884514437\n",
      "9\n",
      "0.21153846153846154\n",
      "3\n",
      "0.3491414554374489\n",
      "8\n",
      "0.23958333333333334\n",
      "20\n",
      "0.2323943661971831\n"
     ]
    }
   ],
   "source": [
    "for i in df['experience'].unique():\n",
    "    print(i)\n",
    "    print(df[(df['experience'] == i) & (df['target'] == 1)].shape[0]/df[df['experience'] == i].shape[0])"
   ]
  },
  {
   "cell_type": "markdown",
   "id": "8413be44",
   "metadata": {},
   "source": [
    "Aqui, trataremos a variavel como ordinal."
   ]
  },
  {
   "cell_type": "markdown",
   "id": "444ec75e",
   "metadata": {},
   "source": [
    "## company_size"
   ]
  },
  {
   "cell_type": "code",
   "execution_count": 20,
   "id": "a7efd38a",
   "metadata": {},
   "outputs": [
    {
     "name": "stdout",
     "output_type": "stream",
     "text": [
      "Missing Value\n",
      "0.41544256120527306\n",
      "50-99\n",
      "0.1752542372881356\n",
      "<10\n",
      "0.1642512077294686\n",
      "10000+\n",
      "0.18737270875763748\n",
      "5000-9999\n",
      "0.17896678966789667\n",
      "1000-4999\n",
      "0.14586583463338534\n",
      "10/49\n",
      "0.2223816355810617\n",
      "100-500\n",
      "0.1562625855819573\n",
      "500-999\n",
      "0.17001180637544275\n"
     ]
    }
   ],
   "source": [
    "for i in df['company_size'].unique():\n",
    "    print(i)\n",
    "    print(df[(df['company_size'] == i) & (df['target'] == 1)].shape[0]/df[df['company_size'] == i].shape[0])"
   ]
  },
  {
   "cell_type": "markdown",
   "id": "b75f5f44",
   "metadata": {},
   "source": [
    "Nesse caso, o tamanho da companhia não parece influenciar tanto, entretanto o fato de se faltar um valor influencia muito mais. Nesse caso, o tamanho da companhia não será considerado, mas será criada uma nova coluna com o valor de se company_size é ou não um valor faltante "
   ]
  },
  {
   "cell_type": "code",
   "execution_count": 21,
   "id": "f5f4b1b8",
   "metadata": {},
   "outputs": [],
   "source": [
    "def condicao(x):\n",
    "    if x == 'Missing Value':\n",
    "        return '1'\n",
    "    else:\n",
    "        return '0'\n",
    "df['Missing_size'] = df['company_size'].map(condicao)"
   ]
  },
  {
   "cell_type": "markdown",
   "id": "32f50f27",
   "metadata": {},
   "source": [
    "## company_type"
   ]
  },
  {
   "cell_type": "code",
   "execution_count": 22,
   "id": "3a04261f",
   "metadata": {},
   "outputs": [
    {
     "name": "stdout",
     "output_type": "stream",
     "text": [
      "Missing Value\n",
      "0.3970051132213294\n",
      "Pvt Ltd\n",
      "0.1766754617414248\n",
      "Funded Startup\n",
      "0.14153846153846153\n",
      "Early Stage Startup\n",
      "0.2206405693950178\n",
      "Other\n",
      "0.23684210526315788\n",
      "Public Sector\n",
      "0.2149122807017544\n",
      "NGO\n",
      "0.176\n"
     ]
    }
   ],
   "source": [
    "for i in df['company_type'].unique():\n",
    "    print(i)\n",
    "    print(df[(df['company_type'] == i) & (df['target'] == 1)].shape[0]/df[df['company_type'] == i].shape[0])"
   ]
  },
  {
   "cell_type": "markdown",
   "id": "a9f8a80e",
   "metadata": {},
   "source": [
    "aqui acontece o mesmo que em company_size"
   ]
  },
  {
   "cell_type": "code",
   "execution_count": 23,
   "id": "e96acd01",
   "metadata": {},
   "outputs": [],
   "source": [
    "df['Missing_type'] = df['company_type'].map(condicao)"
   ]
  },
  {
   "cell_type": "markdown",
   "id": "3b4b5d5e",
   "metadata": {},
   "source": [
    "## last_new_job"
   ]
  },
  {
   "cell_type": "code",
   "execution_count": 24,
   "id": "21347a18",
   "metadata": {},
   "outputs": [
    {
     "name": "stdout",
     "output_type": "stream",
     "text": [
      "1\n",
      "0.26165104634741304\n",
      ">4\n",
      "0.18006230529595016\n",
      "never\n",
      "0.3122999542752629\n",
      "4\n",
      "0.21782178217821782\n",
      "3\n",
      "0.2250252270433905\n",
      "2\n",
      "0.24018394057304562\n"
     ]
    }
   ],
   "source": [
    "for i in df['last_new_job'].unique():\n",
    "    print(i)\n",
    "    print(df[(df['last_new_job'] == i) & (df['target'] == 1)].shape[0]/df[df['last_new_job'] == i].shape[0])"
   ]
  },
  {
   "cell_type": "markdown",
   "id": "dbe5f038",
   "metadata": {},
   "source": [
    "Nesse caso parece seguir um padrão de quanto menor o valor maior a procentagens de target = 1. Desse modo, trataremos como uma variavel categorica ordinal."
   ]
  },
  {
   "cell_type": "markdown",
   "id": "462183ab",
   "metadata": {},
   "source": [
    "## Variaveis numéricas"
   ]
  },
  {
   "cell_type": "code",
   "execution_count": 25,
   "id": "2318eeb1",
   "metadata": {},
   "outputs": [
    {
     "data": {
      "text/plain": [
       "<AxesSubplot:>"
      ]
     },
     "execution_count": 25,
     "metadata": {},
     "output_type": "execute_result"
    },
    {
     "data": {
      "image/png": "[encoded data removed]",
      "text/plain": [
       "<Figure size 432x288 with 2 Axes>"
      ]
     },
     "metadata": {
      "needs_background": "light"
     },
     "output_type": "display_data"
    }
   ],
   "source": [
    "corr = df[['target', 'city_development_index', 'training_hours']].corr()\n",
    "sns.heatmap(corr, \n",
    "        xticklabels=corr.columns,\n",
    "        yticklabels=corr.columns, annot=True)"
   ]
  },
  {
   "cell_type": "markdown",
   "id": "e1ce8ad3",
   "metadata": {},
   "source": [
    "Nesse caso, city_development_index tem uma alta correlação com o target, relativa às outras variáveis, enquanto podemos descartar training_hours."
   ]
  },
  {
   "cell_type": "markdown",
   "id": "b8d0d1b1",
   "metadata": {},
   "source": [
    "# Dataset final utilizado + One hot encoding + OrdinalEncode"
   ]
  },
  {
   "cell_type": "code",
   "execution_count": 26,
   "id": "d7ae6120",
   "metadata": {
    "scrolled": true
   },
   "outputs": [],
   "source": [
    "df = df[['city','gender','relevent_experience','enrolled_university','education_level','major_discipline','experience','Missing_size','Missing_type','last_new_job','city_development_index','target']]"
   ]
  },
  {
   "cell_type": "code",
   "execution_count": 27,
   "id": "d6b00133",
   "metadata": {},
   "outputs": [
    {
     "data": {
      "text/plain": [
       "['1',\n",
       " '10',\n",
       " '11',\n",
       " '12',\n",
       " '13',\n",
       " '14',\n",
       " '15',\n",
       " '16',\n",
       " '17',\n",
       " '18',\n",
       " '19',\n",
       " '2',\n",
       " '20',\n",
       " '3',\n",
       " '4',\n",
       " '5',\n",
       " '6',\n",
       " '7',\n",
       " '8',\n",
       " '9',\n",
       " '<1',\n",
       " '>20']"
      ]
     },
     "execution_count": 27,
     "metadata": {},
     "output_type": "execute_result"
    }
   ],
   "source": [
    "sorted(df['experience'].unique())"
   ]
  },
  {
   "cell_type": "code",
   "execution_count": 28,
   "id": "f2e969c3",
   "metadata": {},
   "outputs": [],
   "source": [
    "def encoder(x, lista):\n",
    "    for i in range(len(lista)):\n",
    "        if x == lista[i]:\n",
    "            return i\n",
    "        \n",
    "def padronizar(x):\n",
    "    return (x - min(x))/(max(x) - min(x))\n",
    "    \n",
    "df['last_new_job'] = df['last_new_job'].map(lambda x: encoder(x,['never', '1','2','3','4','>4']))\n",
    "df['experience'] = df['experience'].map(lambda x: encoder(x,['<1','1','2','3','4','5','6','7','8','9','10','11','12','13','14','15','16','17','18','19','20','>20']))"
   ]
  },
  {
   "cell_type": "code",
   "execution_count": 29,
   "id": "0084cba1",
   "metadata": {},
   "outputs": [
    {
     "name": "stdout",
     "output_type": "stream",
     "text": [
      "<class 'pandas.core.frame.DataFrame'>\n",
      "Int64Index: 18014 entries, 0 to 19157\n",
      "Data columns (total 12 columns):\n",
      " #   Column                  Non-Null Count  Dtype  \n",
      "---  ------                  --------------  -----  \n",
      " 0   city                    18014 non-null  object \n",
      " 1   gender                  18014 non-null  object \n",
      " 2   relevent_experience     18014 non-null  object \n",
      " 3   enrolled_university     18014 non-null  object \n",
      " 4   education_level         18014 non-null  object \n",
      " 5   major_discipline        18014 non-null  object \n",
      " 6   experience              18014 non-null  int64  \n",
      " 7   Missing_size            18014 non-null  object \n",
      " 8   Missing_type            18014 non-null  object \n",
      " 9   last_new_job            18014 non-null  int64  \n",
      " 10  city_development_index  18014 non-null  float64\n",
      " 11  target                  18014 non-null  float64\n",
      "dtypes: float64(2), int64(2), object(8)\n",
      "memory usage: 2.3+ MB\n"
     ]
    }
   ],
   "source": [
    "df.info()"
   ]
  },
  {
   "cell_type": "code",
   "execution_count": 30,
   "id": "da10d1b1",
   "metadata": {},
   "outputs": [
    {
     "data": {
      "text/html": [
       "<div>\n",
       "<style scoped>\n",
       "    .dataframe tbody tr th:only-of-type {\n",
       "        vertical-align: middle;\n",
       "    }\n",
       "\n",
       "    .dataframe tbody tr th {\n",
       "        vertical-align: top;\n",
       "    }\n",
       "\n",
       "    .dataframe thead th {\n",
       "        text-align: right;\n",
       "    }\n",
       "</style>\n",
       "<table border=\"1\" class=\"dataframe\">\n",
       "  <thead>\n",
       "    <tr style=\"text-align: right;\">\n",
       "      <th></th>\n",
       "      <th>city</th>\n",
       "      <th>gender</th>\n",
       "      <th>relevent_experience</th>\n",
       "      <th>enrolled_university</th>\n",
       "      <th>education_level</th>\n",
       "      <th>major_discipline</th>\n",
       "      <th>experience</th>\n",
       "      <th>Missing_size</th>\n",
       "      <th>Missing_type</th>\n",
       "      <th>last_new_job</th>\n",
       "      <th>city_development_index</th>\n",
       "      <th>target</th>\n",
       "    </tr>\n",
       "  </thead>\n",
       "  <tbody>\n",
       "    <tr>\n",
       "      <th>0</th>\n",
       "      <td>city_103</td>\n",
       "      <td>Male</td>\n",
       "      <td>Has relevent experience</td>\n",
       "      <td>no_enrollment</td>\n",
       "      <td>Graduate</td>\n",
       "      <td>STEM</td>\n",
       "      <td>21</td>\n",
       "      <td>1</td>\n",
       "      <td>1</td>\n",
       "      <td>1</td>\n",
       "      <td>0.920</td>\n",
       "      <td>1.0</td>\n",
       "    </tr>\n",
       "    <tr>\n",
       "      <th>1</th>\n",
       "      <td>city_40</td>\n",
       "      <td>Male</td>\n",
       "      <td>No relevent experience</td>\n",
       "      <td>no_enrollment</td>\n",
       "      <td>Graduate</td>\n",
       "      <td>STEM</td>\n",
       "      <td>15</td>\n",
       "      <td>0</td>\n",
       "      <td>0</td>\n",
       "      <td>5</td>\n",
       "      <td>0.776</td>\n",
       "      <td>0.0</td>\n",
       "    </tr>\n",
       "    <tr>\n",
       "      <th>2</th>\n",
       "      <td>city_21</td>\n",
       "      <td>Missing Value</td>\n",
       "      <td>No relevent experience</td>\n",
       "      <td>Full time course</td>\n",
       "      <td>Graduate</td>\n",
       "      <td>STEM</td>\n",
       "      <td>5</td>\n",
       "      <td>1</td>\n",
       "      <td>1</td>\n",
       "      <td>0</td>\n",
       "      <td>0.624</td>\n",
       "      <td>0.0</td>\n",
       "    </tr>\n",
       "    <tr>\n",
       "      <th>4</th>\n",
       "      <td>city_162</td>\n",
       "      <td>Male</td>\n",
       "      <td>Has relevent experience</td>\n",
       "      <td>no_enrollment</td>\n",
       "      <td>Masters</td>\n",
       "      <td>STEM</td>\n",
       "      <td>21</td>\n",
       "      <td>0</td>\n",
       "      <td>0</td>\n",
       "      <td>4</td>\n",
       "      <td>0.767</td>\n",
       "      <td>0.0</td>\n",
       "    </tr>\n",
       "    <tr>\n",
       "      <th>5</th>\n",
       "      <td>city_176</td>\n",
       "      <td>Missing Value</td>\n",
       "      <td>Has relevent experience</td>\n",
       "      <td>Part time course</td>\n",
       "      <td>Graduate</td>\n",
       "      <td>STEM</td>\n",
       "      <td>11</td>\n",
       "      <td>1</td>\n",
       "      <td>1</td>\n",
       "      <td>1</td>\n",
       "      <td>0.764</td>\n",
       "      <td>1.0</td>\n",
       "    </tr>\n",
       "  </tbody>\n",
       "</table>\n",
       "</div>"
      ],
      "text/plain": [
       "       city         gender      relevent_experience enrolled_university  \\\n",
       "0  city_103           Male  Has relevent experience       no_enrollment   \n",
       "1   city_40           Male   No relevent experience       no_enrollment   \n",
       "2   city_21  Missing Value   No relevent experience    Full time course   \n",
       "4  city_162           Male  Has relevent experience       no_enrollment   \n",
       "5  city_176  Missing Value  Has relevent experience    Part time course   \n",
       "\n",
       "  education_level major_discipline  experience Missing_size Missing_type  \\\n",
       "0        Graduate             STEM          21            1            1   \n",
       "1        Graduate             STEM          15            0            0   \n",
       "2        Graduate             STEM           5            1            1   \n",
       "4         Masters             STEM          21            0            0   \n",
       "5        Graduate             STEM          11            1            1   \n",
       "\n",
       "   last_new_job  city_development_index  target  \n",
       "0             1                   0.920     1.0  \n",
       "1             5                   0.776     0.0  \n",
       "2             0                   0.624     0.0  \n",
       "4             4                   0.767     0.0  \n",
       "5             1                   0.764     1.0  "
      ]
     },
     "execution_count": 30,
     "metadata": {},
     "output_type": "execute_result"
    }
   ],
   "source": [
    "df.head()"
   ]
  },
  {
   "cell_type": "code",
   "execution_count": 31,
   "id": "70197b1e",
   "metadata": {},
   "outputs": [],
   "source": [
    "df = pd.get_dummies(df)"
   ]
  },
  {
   "cell_type": "code",
   "execution_count": 32,
   "id": "1dfe1d7d",
   "metadata": {},
   "outputs": [
    {
     "data": {
      "text/html": [
       "<div>\n",
       "<style scoped>\n",
       "    .dataframe tbody tr th:only-of-type {\n",
       "        vertical-align: middle;\n",
       "    }\n",
       "\n",
       "    .dataframe tbody tr th {\n",
       "        vertical-align: top;\n",
       "    }\n",
       "\n",
       "    .dataframe thead th {\n",
       "        text-align: right;\n",
       "    }\n",
       "</style>\n",
       "<table border=\"1\" class=\"dataframe\">\n",
       "  <thead>\n",
       "    <tr style=\"text-align: right;\">\n",
       "      <th></th>\n",
       "      <th>experience</th>\n",
       "      <th>last_new_job</th>\n",
       "      <th>city_development_index</th>\n",
       "      <th>target</th>\n",
       "      <th>city_city_1</th>\n",
       "      <th>city_city_10</th>\n",
       "      <th>city_city_100</th>\n",
       "      <th>city_city_101</th>\n",
       "      <th>city_city_102</th>\n",
       "      <th>city_city_103</th>\n",
       "      <th>...</th>\n",
       "      <th>major_discipline_Business Degree</th>\n",
       "      <th>major_discipline_Humanities</th>\n",
       "      <th>major_discipline_Missing Value</th>\n",
       "      <th>major_discipline_No Major</th>\n",
       "      <th>major_discipline_Other</th>\n",
       "      <th>major_discipline_STEM</th>\n",
       "      <th>Missing_size_0</th>\n",
       "      <th>Missing_size_1</th>\n",
       "      <th>Missing_type_0</th>\n",
       "      <th>Missing_type_1</th>\n",
       "    </tr>\n",
       "  </thead>\n",
       "  <tbody>\n",
       "    <tr>\n",
       "      <th>0</th>\n",
       "      <td>21</td>\n",
       "      <td>1</td>\n",
       "      <td>0.920</td>\n",
       "      <td>1.0</td>\n",
       "      <td>0</td>\n",
       "      <td>0</td>\n",
       "      <td>0</td>\n",
       "      <td>0</td>\n",
       "      <td>0</td>\n",
       "      <td>1</td>\n",
       "      <td>...</td>\n",
       "      <td>0</td>\n",
       "      <td>0</td>\n",
       "      <td>0</td>\n",
       "      <td>0</td>\n",
       "      <td>0</td>\n",
       "      <td>1</td>\n",
       "      <td>0</td>\n",
       "      <td>1</td>\n",
       "      <td>0</td>\n",
       "      <td>1</td>\n",
       "    </tr>\n",
       "    <tr>\n",
       "      <th>1</th>\n",
       "      <td>15</td>\n",
       "      <td>5</td>\n",
       "      <td>0.776</td>\n",
       "      <td>0.0</td>\n",
       "      <td>0</td>\n",
       "      <td>0</td>\n",
       "      <td>0</td>\n",
       "      <td>0</td>\n",
       "      <td>0</td>\n",
       "      <td>0</td>\n",
       "      <td>...</td>\n",
       "      <td>0</td>\n",
       "      <td>0</td>\n",
       "      <td>0</td>\n",
       "      <td>0</td>\n",
       "      <td>0</td>\n",
       "      <td>1</td>\n",
       "      <td>1</td>\n",
       "      <td>0</td>\n",
       "      <td>1</td>\n",
       "      <td>0</td>\n",
       "    </tr>\n",
       "    <tr>\n",
       "      <th>2</th>\n",
       "      <td>5</td>\n",
       "      <td>0</td>\n",
       "      <td>0.624</td>\n",
       "      <td>0.0</td>\n",
       "      <td>0</td>\n",
       "      <td>0</td>\n",
       "      <td>0</td>\n",
       "      <td>0</td>\n",
       "      <td>0</td>\n",
       "      <td>0</td>\n",
       "      <td>...</td>\n",
       "      <td>0</td>\n",
       "      <td>0</td>\n",
       "      <td>0</td>\n",
       "      <td>0</td>\n",
       "      <td>0</td>\n",
       "      <td>1</td>\n",
       "      <td>0</td>\n",
       "      <td>1</td>\n",
       "      <td>0</td>\n",
       "      <td>1</td>\n",
       "    </tr>\n",
       "    <tr>\n",
       "      <th>4</th>\n",
       "      <td>21</td>\n",
       "      <td>4</td>\n",
       "      <td>0.767</td>\n",
       "      <td>0.0</td>\n",
       "      <td>0</td>\n",
       "      <td>0</td>\n",
       "      <td>0</td>\n",
       "      <td>0</td>\n",
       "      <td>0</td>\n",
       "      <td>0</td>\n",
       "      <td>...</td>\n",
       "      <td>0</td>\n",
       "      <td>0</td>\n",
       "      <td>0</td>\n",
       "      <td>0</td>\n",
       "      <td>0</td>\n",
       "      <td>1</td>\n",
       "      <td>1</td>\n",
       "      <td>0</td>\n",
       "      <td>1</td>\n",
       "      <td>0</td>\n",
       "    </tr>\n",
       "    <tr>\n",
       "      <th>5</th>\n",
       "      <td>11</td>\n",
       "      <td>1</td>\n",
       "      <td>0.764</td>\n",
       "      <td>1.0</td>\n",
       "      <td>0</td>\n",
       "      <td>0</td>\n",
       "      <td>0</td>\n",
       "      <td>0</td>\n",
       "      <td>0</td>\n",
       "      <td>0</td>\n",
       "      <td>...</td>\n",
       "      <td>0</td>\n",
       "      <td>0</td>\n",
       "      <td>0</td>\n",
       "      <td>0</td>\n",
       "      <td>0</td>\n",
       "      <td>1</td>\n",
       "      <td>0</td>\n",
       "      <td>1</td>\n",
       "      <td>0</td>\n",
       "      <td>1</td>\n",
       "    </tr>\n",
       "  </tbody>\n",
       "</table>\n",
       "<p>5 rows × 152 columns</p>\n",
       "</div>"
      ],
      "text/plain": [
       "   experience  last_new_job  city_development_index  target  city_city_1  \\\n",
       "0          21             1                   0.920     1.0            0   \n",
       "1          15             5                   0.776     0.0            0   \n",
       "2           5             0                   0.624     0.0            0   \n",
       "4          21             4                   0.767     0.0            0   \n",
       "5          11             1                   0.764     1.0            0   \n",
       "\n",
       "   city_city_10  city_city_100  city_city_101  city_city_102  city_city_103  \\\n",
       "0             0              0              0              0              1   \n",
       "1             0              0              0              0              0   \n",
       "2             0              0              0              0              0   \n",
       "4             0              0              0              0              0   \n",
       "5             0              0              0              0              0   \n",
       "\n",
       "   ...  major_discipline_Business Degree  major_discipline_Humanities  \\\n",
       "0  ...                                 0                            0   \n",
       "1  ...                                 0                            0   \n",
       "2  ...                                 0                            0   \n",
       "4  ...                                 0                            0   \n",
       "5  ...                                 0                            0   \n",
       "\n",
       "   major_discipline_Missing Value  major_discipline_No Major  \\\n",
       "0                               0                          0   \n",
       "1                               0                          0   \n",
       "2                               0                          0   \n",
       "4                               0                          0   \n",
       "5                               0                          0   \n",
       "\n",
       "   major_discipline_Other  major_discipline_STEM  Missing_size_0  \\\n",
       "0                       0                      1               0   \n",
       "1                       0                      1               1   \n",
       "2                       0                      1               0   \n",
       "4                       0                      1               1   \n",
       "5                       0                      1               0   \n",
       "\n",
       "   Missing_size_1  Missing_type_0  Missing_type_1  \n",
       "0               1               0               1  \n",
       "1               0               1               0  \n",
       "2               1               0               1  \n",
       "4               0               1               0  \n",
       "5               1               0               1  \n",
       "\n",
       "[5 rows x 152 columns]"
      ]
     },
     "execution_count": 32,
     "metadata": {},
     "output_type": "execute_result"
    }
   ],
   "source": [
    "df.head()"
   ]
  },
  {
   "cell_type": "markdown",
   "id": "54abf4b2",
   "metadata": {},
   "source": [
    "# Modelos"
   ]
  },
  {
   "cell_type": "markdown",
   "id": "521d84e3",
   "metadata": {},
   "source": [
    "Para resumo do estudo vamos comparar apenas 2 modelos e avaliar a diferença entre suas métricas. Desse modo, utilizaremos o SVM e uma Random Forest de Árvores que minimizam a entropia."
   ]
  },
  {
   "cell_type": "code",
   "execution_count": 33,
   "id": "633cc03f",
   "metadata": {},
   "outputs": [],
   "source": [
    "X = df.drop('target', axis=1)\n",
    "y = df['target']\n",
    "\n",
    "X_train, X_test, y_train, y_test = train_test_split(X, y, test_size = 0.3, random_state = 7)"
   ]
  },
  {
   "cell_type": "markdown",
   "id": "f6072b97",
   "metadata": {},
   "source": [
    "### Random Forest - ID3"
   ]
  },
  {
   "cell_type": "code",
   "execution_count": 34,
   "id": "1989996f",
   "metadata": {},
   "outputs": [],
   "source": [
    "ID3 = RandomForestClassifier(\n",
    "    max_depth=25,\n",
    "    n_estimators=200,\n",
    "    min_samples_split=50,\n",
    "    criterion='entropy',\n",
    "    oob_score=True,\n",
    "    random_state=42\n",
    ")\n",
    "ID3.fit(X_train.values, y_train.values)\n",
    "y_pred1 = ID3.predict(X_test.values)"
   ]
  },
  {
   "cell_type": "code",
   "execution_count": 35,
   "id": "325fd4e7",
   "metadata": {},
   "outputs": [
    {
     "name": "stderr",
     "output_type": "stream",
     "text": [
      "c:\\users\\luisc\\appdata\\local\\programs\\python\\python39\\lib\\site-packages\\sklearn\\utils\\deprecation.py:87: FutureWarning: Function plot_confusion_matrix is deprecated; Function `plot_confusion_matrix` is deprecated in 1.0 and will be removed in 1.2. Use one of the class methods: ConfusionMatrixDisplay.from_predictions or ConfusionMatrixDisplay.from_estimator.\n",
      "  warnings.warn(msg, category=FutureWarning)\n",
      "c:\\users\\luisc\\appdata\\local\\programs\\python\\python39\\lib\\site-packages\\sklearn\\base.py:438: UserWarning: X has feature names, but RandomForestClassifier was fitted without feature names\n",
      "  warnings.warn(\n",
      "c:\\users\\luisc\\appdata\\local\\programs\\python\\python39\\lib\\site-packages\\sklearn\\base.py:438: UserWarning: X has feature names, but RandomForestClassifier was fitted without feature names\n",
      "  warnings.warn(\n"
     ]
    },
    {
     "name": "stdout",
     "output_type": "stream",
     "text": [
      "79.33%\n",
      "              precision    recall  f1-score   support\n",
      "\n",
      "         0.0       0.86      0.87      0.86      4077\n",
      "         1.0       0.58      0.55      0.57      1328\n",
      "\n",
      "    accuracy                           0.79      5405\n",
      "   macro avg       0.72      0.71      0.72      5405\n",
      "weighted avg       0.79      0.79      0.79      5405\n",
      "\n"
     ]
    },
    {
     "data": {
      "image/png": "[encoded data removed]",
      "text/plain": [
       "<Figure size 432x288 with 2 Axes>"
      ]
     },
     "metadata": {
      "needs_background": "light"
     },
     "output_type": "display_data"
    }
   ],
   "source": [
    "plot_confusion_matrix(ID3, X_test, y_test, values_format='d')\n",
    "plt.title('ID3')\n",
    "score1 = ID3.score(X_test, y_test)\n",
    "print(f'{score1*100:.2f}%')\n",
    "print(classification_report(y_test, y_pred1))"
   ]
  },
  {
   "cell_type": "markdown",
   "id": "e0607fb6",
   "metadata": {},
   "source": [
    "### SVM"
   ]
  },
  {
   "cell_type": "code",
   "execution_count": 36,
   "id": "a93effe4",
   "metadata": {},
   "outputs": [],
   "source": [
    "SVM = svm.SVC(C = 1000)\n",
    "SVM.fit(X_train, y_train)\n",
    "y_pred2 = SVM.predict(X_test)"
   ]
  },
  {
   "cell_type": "code",
   "execution_count": 37,
   "id": "ae1f73b2",
   "metadata": {},
   "outputs": [
    {
     "name": "stderr",
     "output_type": "stream",
     "text": [
      "c:\\users\\luisc\\appdata\\local\\programs\\python\\python39\\lib\\site-packages\\sklearn\\utils\\deprecation.py:87: FutureWarning: Function plot_confusion_matrix is deprecated; Function `plot_confusion_matrix` is deprecated in 1.0 and will be removed in 1.2. Use one of the class methods: ConfusionMatrixDisplay.from_predictions or ConfusionMatrixDisplay.from_estimator.\n",
      "  warnings.warn(msg, category=FutureWarning)\n"
     ]
    },
    {
     "name": "stdout",
     "output_type": "stream",
     "text": [
      "79.32%\n",
      "              precision    recall  f1-score   support\n",
      "\n",
      "         0.0       0.87      0.85      0.86      4077\n",
      "         1.0       0.57      0.61      0.59      1328\n",
      "\n",
      "    accuracy                           0.79      5405\n",
      "   macro avg       0.72      0.73      0.73      5405\n",
      "weighted avg       0.80      0.79      0.80      5405\n",
      "\n"
     ]
    },
    {
     "data": {
      "image/png": "[encoded data removed]",
      "text/plain": [
       "<Figure size 432x288 with 2 Axes>"
      ]
     },
     "metadata": {
      "needs_background": "light"
     },
     "output_type": "display_data"
    }
   ],
   "source": [
    "plot_confusion_matrix(SVM, X_test, y_test, values_format='d')\n",
    "plt.title('ID3')\n",
    "score2 = SVM.score(X_test, y_test)\n",
    "print(f'{score2*100:.2f}%')\n",
    "print(classification_report(y_test, y_pred2))"
   ]
  },
  {
   "cell_type": "markdown",
   "id": "ffa4cfa1",
   "metadata": {},
   "source": [
    "Apesar de não ter muitas mudanças, o SVM se mostrou mais balançeado, enquanto a random forest focou mais na precisão do acerto do 0. Uma hipotese é que isso ocorra devido a uma quantidade maior de 0 no dataset."
   ]
  }
 ],
 "metadata": {
  "kernelspec": {
   "display_name": "Python 3 (ipykernel)",
   "language": "python",
   "name": "python3"
  },
  "language_info": {
   "codemirror_mode": {
    "name": "ipython",
    "version": 3
   },
   "file_extension": ".py",
   "mimetype": "text/x-python",
   "name": "python",
   "nbconvert_exporter": "python",
   "pygments_lexer": "ipython3",
   "version": "3.9.6"
  }
 },
 "nbformat": 4,
 "nbformat_minor": 5
}
